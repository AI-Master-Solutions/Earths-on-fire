{
 "cells": [
  {
   "cell_type": "markdown",
   "metadata": {},
   "source": [
    "# Working with Tropospheric Emissions: Monitoring of Pollution (TEMPO)'s Image Service in ArcGIS"
   ]
  },
  {
   "cell_type": "markdown",
   "metadata": {},
   "source": [
    "## Export Image"
   ]
  },
  {
   "cell_type": "code",
   "execution_count": 2,
   "metadata": {},
   "outputs": [
    {
     "name": "stdout",
     "output_type": "stream",
     "text": [
      "<ImageryLayer url:\"https://gis.earthdata.nasa.gov/image/rest/services/C2930763263-LARC_CLOUD/TEMPO_NO2_L3_V03_HOURLY_TROPOSPHERIC_VERTICAL_COLUMN_BETA/ImageServer\">\n"
     ]
    },
    {
     "data": {
      "application/vnd.jupyter.widget-view+json": {
       "model_id": "a023216d65404c5f8e8ec6f22ac24c68",
       "version_major": 2,
       "version_minor": 0
      },
      "text/plain": [
       "MapView(layout=Layout(height='400px', width='100%'), time_slider=True)"
      ]
     },
     "metadata": {},
     "output_type": "display_data"
    },
    {
     "data": {
      "text/html": [
       "<div class=\"map-static-img-preview-fa89a10e-7540-4171-a09e-2e1a97faccab\"><img src=\"\"></img></div>"
      ],
      "text/plain": [
       "<IPython.core.display.HTML object>"
      ]
     },
     "metadata": {},
     "output_type": "display_data"
    },
    {
     "data": {
      "text/html": [
       "<div class=\"map-html-embed-preview-fa89a10e-7540-4171-a09e-2e1a97faccab\"></div>"
      ],
      "text/plain": [
       "<IPython.core.display.HTML object>"
      ]
     },
     "metadata": {},
     "output_type": "display_data"
    }
   ],
   "source": [
    "from arcgis.gis import GIS\n",
    "from arcgis.mapping import WebMap\n",
    "from arcgis.raster import ImageryLayer\n",
    "from arcgis.raster.functions import colormap\n",
    "from datetime import datetime\n",
    "from arcgis.features import FeatureLayer\n",
    "from arcgis.mapping import MapImageLayer\n",
    "from ipywidgets import IntSlider, VBox, Output\n",
    "from IPython.display import display\n",
    "import time\n",
    "import json\n",
    "\n",
    "def convert_to_milliseconds(date_time_str):\n",
    "    \"\"\"Converts a date-time string in 'YYYY-MM-DD HH:MM:SS' format to milliseconds since epoch.\"\"\"\n",
    "    dt = datetime.strptime(date_time_str, '%Y-%m-%d %H:%M:%S')\n",
    "    milliseconds_since_epoch = int(dt.timestamp() * 1000)\n",
    "    return milliseconds_since_epoch\n",
    "\n",
    "\n",
    "# Connect to GIS\n",
    "gis = GIS()\n",
    "date_time = 1720617417000 #EST time \n",
    "bbox = [-125.0, 22, -66, 51]\n",
    "\n",
    "\n",
    "\n",
    "# Provide a rendering rule for the color ramp, with a preset ColorRamp from ArcGIS\n",
    "rendering_rule = {\n",
    "    \"rasterFunctionArguments\": {\n",
    "        \"ColorrampName\": \"Temperature\",  #preset ColorRamp from ArcGIS\n",
    "        \"Raster\": {\n",
    "            \"rasterFunctionArguments\": {\n",
    "                \"StretchType\": 5,\n",
    "                \"Statistics\": [[0, 30000000000000000, 910863682171422.1, 9474291611234248]], # min value is 0, max value is 3e+16\n",
    "                \"DRA\": False,\n",
    "                \"UseGamma\": False,\n",
    "                \"Gamma\": [1],\n",
    "                \"ComputeGamma\": True,\n",
    "                \"Min\": 0,\n",
    "                \"Max\": 255\n",
    "            },\n",
    "            \"rasterFunction\": \"Stretch\",\n",
    "            \"outputPixelType\": \"U64\", # must coincide with parameter's pixel type\n",
    "            \"variableName\": \"Raster\"\n",
    "        }\n",
    "    },\n",
    "    \"rasterFunction\": \"Colormap\",\n",
    "    \"variableName\": \"Raster\"\n",
    "}\n",
    "rendering_rule_json = json.dumps(rendering_rule)\n",
    "\n",
    "\n",
    "\n",
    "# TEMPO Image Server\n",
    "image_service_url = \"https://gis.earthdata.nasa.gov/image/rest/services/C2930763263-LARC_CLOUD/TEMPO_NO2_L3_V03_HOURLY_TROPOSPHERIC_VERTICAL_COLUMN_BETA/ImageServer/\"\n",
    "\n",
    "# Load the imagery service\n",
    "imagery_layer = ImageryLayer(image_service_url)\n",
    "imagery_layer.renderer = rendering_rule_json\n",
    "print(imagery_layer)\n",
    "\n",
    "# Initialize the map centered on the bounding box\n",
    "center_lat = (bbox[1] + bbox[3]) / 2\n",
    "center_lon = (bbox[0] + bbox[2]) / 2\n",
    "map_widget = gis.map(location=[center_lat, center_lon], zoomlevel=4)\n",
    "\n",
    "\n",
    "# Display the map\n",
    "map_widget.add_layer(imagery_layer)\n",
    "map_widget.time_slider = True\n",
    "map_widget.set_time_extent(start_time=datetime(2024, 7, 10), end_time=datetime(2024, 7, 11), unit='minutes')\n",
    "\n",
    "map_widget\n",
    "\n"
   ]
  },
  {
   "cell_type": "code",
   "execution_count": null,
   "metadata": {},
   "outputs": [],
   "source": []
  },
  {
   "cell_type": "code",
   "execution_count": null,
   "metadata": {},
   "outputs": [],
   "source": []
  },
  {
   "cell_type": "code",
   "execution_count": null,
   "metadata": {},
   "outputs": [],
   "source": []
  },
  {
   "cell_type": "code",
   "execution_count": null,
   "metadata": {},
   "outputs": [],
   "source": []
  },
  {
   "cell_type": "code",
   "execution_count": null,
   "metadata": {},
   "outputs": [],
   "source": []
  },
  {
   "cell_type": "code",
   "execution_count": null,
   "metadata": {},
   "outputs": [],
   "source": []
  },
  {
   "cell_type": "code",
   "execution_count": null,
   "metadata": {},
   "outputs": [],
   "source": []
  }
 ],
 "metadata": {
  "kernelspec": {
   "display_name": "Python 3 (ipykernel)",
   "language": "python",
   "name": "python3"
  },
  "language_info": {
   "codemirror_mode": {
    "name": "ipython",
    "version": 3
   },
   "file_extension": ".py",
   "mimetype": "text/x-python",
   "name": "python",
   "nbconvert_exporter": "python",
   "pygments_lexer": "ipython3",
   "version": "3.10.14"
  }
 },
 "nbformat": 4,
 "nbformat_minor": 2
}
